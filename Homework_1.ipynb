{
 "cells": [
  {
   "cell_type": "code",
   "execution_count": 1,
   "id": "71af5842-eb4e-43f7-a532-efb50986ee7f",
   "metadata": {},
   "outputs": [
    {
     "name": "stdout",
     "output_type": "stream",
     "text": [
      "The variable, myName, is defined as Roberto Mafra and is of type <class 'str'>\n"
     ]
    }
   ],
   "source": [
    "#Getting to know Jupyter part 1.1 String Type\n",
    "\n",
    "MyName = \"Roberto Mafra\"\n",
    "print(f\"The variable, myName, is defined as {MyName} and is of type {type(MyName)}\")"
   ]
  },
  {
   "cell_type": "code",
   "execution_count": 2,
   "id": "6c61763c-6683-46e6-a9c3-fae15a53afca",
   "metadata": {},
   "outputs": [
    {
     "name": "stdout",
     "output_type": "stream",
     "text": [
      "The Variable, MyName, is defined as 35 and is of type <class 'int'>\n"
     ]
    }
   ],
   "source": [
    "#Part 1 Getting to know Jupyter Part 1.2 - Integer\n",
    "\n",
    "MyName = 35\n",
    "print(f\"The Variable, MyName, is defined as {MyName} and is of type {type(MyName)}\")"
   ]
  },
  {
   "cell_type": "code",
   "execution_count": 3,
   "id": "448deac9-c918-40e2-90db-dc60416f1afc",
   "metadata": {},
   "outputs": [
    {
     "name": "stdout",
     "output_type": "stream",
     "text": [
      "The Variable, MySiblingsAge, is defined as [34, 34, 30, 26, 22, 18] and is of type <class 'list'>\n"
     ]
    }
   ],
   "source": [
    "#Part 1 Getting to know Jupyter Part 1.3 - List\n",
    "\n",
    "#My siblings age in descending order\n",
    "\n",
    "MySiblingsAge = [34, 34, 30, 26, 22, 18]\n",
    "print(f\"The Variable, MySiblingsAge, is defined as {MySiblingsAge} and is of type {type(MySiblingsAge)}\")"
   ]
  },
  {
   "cell_type": "code",
   "execution_count": 4,
   "id": "6adf472e-5f35-485f-aa1e-12147809a2e9",
   "metadata": {},
   "outputs": [
    {
     "name": "stdout",
     "output_type": "stream",
     "text": [
      "The Variable, MyCarEngine, is defined as 3.6 and is of type <class 'float'>\n"
     ]
    }
   ],
   "source": [
    "#Part 1 Getting to Know Jupyter Part 1.4 - Float\n",
    "\n",
    "MyCarEngine = 3.6\n",
    "print(f\"The Variable, MyCarEngine, is defined as {MyCarEngine} and is of type {type(MyCarEngine)}\")"
   ]
  },
  {
   "cell_type": "code",
   "execution_count": 5,
   "id": "026d11c1-fc1b-43e3-aab6-62059dc74808",
   "metadata": {},
   "outputs": [
    {
     "data": {
      "text/plain": [
       "35"
      ]
     },
     "execution_count": 5,
     "metadata": {},
     "output_type": "execute_result"
    }
   ],
   "source": [
    "#Part 2 - Running out of order\n",
    "\n",
    "MyName"
   ]
  },
  {
   "cell_type": "code",
   "execution_count": 6,
   "id": "b88d0543-9f81-4312-9025-ea3aa743029b",
   "metadata": {},
   "outputs": [],
   "source": [
    "#Part 3 - Operator Practice\n",
    "\n",
    "ValueOne = 505\n",
    "ValueTwo = True\n",
    "ValueThree = 15.342\n",
    "ValueFour = \" Fuzzy Bear\""
   ]
  },
  {
   "cell_type": "code",
   "execution_count": 7,
   "id": "85f1d122-5e5c-46be-8275-8673686ce0ac",
   "metadata": {},
   "outputs": [
    {
     "data": {
      "text/plain": [
       "520.342"
      ]
     },
     "execution_count": 7,
     "metadata": {},
     "output_type": "execute_result"
    }
   ],
   "source": [
    "#Adding ValueOne to ValueThree\n",
    "\n",
    "ValueOne + ValueThree \n"
   ]
  },
  {
   "cell_type": "code",
   "execution_count": 8,
   "id": "4196bf67-06a5-4728-ac5f-ec867262cc89",
   "metadata": {},
   "outputs": [
    {
     "data": {
      "text/plain": [
       "-489.658"
      ]
     },
     "execution_count": 8,
     "metadata": {},
     "output_type": "execute_result"
    }
   ],
   "source": [
    "#Subtracting ValueThree from ValueOne\n",
    "\n",
    "ValueThree - ValueOne"
   ]
  },
  {
   "cell_type": "code",
   "execution_count": 9,
   "id": "8e0abf3f-5356-45a3-bed9-98e3ad989c01",
   "metadata": {},
   "outputs": [
    {
     "name": "stdout",
     "output_type": "stream",
     "text": [
      "520.342 Fuzzy Bear\n"
     ]
    }
   ],
   "source": [
    "#Add ValueOne to ValueThree and concatenate it to ValueFour\n",
    "#The result should be: \"520.342 Fuzzy Bear\"\n",
    " \n",
    "A = ValueOne + ValueThree\n",
    "print(str(A) + ValueFour)\n"
   ]
  },
  {
   "cell_type": "code",
   "execution_count": 10,
   "id": "b814ef00-ca84-4cd4-a061-da3db448d914",
   "metadata": {},
   "outputs": [
    {
     "data": {
      "text/plain": [
       "520"
      ]
     },
     "execution_count": 10,
     "metadata": {},
     "output_type": "execute_result"
    }
   ],
   "source": [
    "#Cast ValueThree to an int, and add it to ValueOne\n",
    "#The result should be 520\n",
    "\n",
    "int(ValueThree) + ValueOne"
   ]
  },
  {
   "cell_type": "code",
   "execution_count": 11,
   "id": "60fa564b-84fc-4bf0-85b5-633e3c4a3f1d",
   "metadata": {},
   "outputs": [
    {
     "data": {
      "text/plain": [
       "506"
      ]
     },
     "execution_count": 11,
     "metadata": {},
     "output_type": "execute_result"
    }
   ],
   "source": [
    "#Cast ValueTwo to an int, add it to ValueOne\n",
    "#The result should be 506\n",
    "\n",
    "int(ValueTwo) + ValueOne"
   ]
  },
  {
   "cell_type": "code",
   "execution_count": 12,
   "id": "5aea2897-deea-40ba-9618-ed207962cdb5",
   "metadata": {},
   "outputs": [
    {
     "data": {
      "text/plain": [
       "'ValueOne => 505, ValueTwo => True, ValueThree => 15.342, ValueFour =>  Fuzzy Bear'"
      ]
     },
     "execution_count": 12,
     "metadata": {},
     "output_type": "execute_result"
    }
   ],
   "source": [
    "#Using an F-string, and without the print statement, generate a sring that has the following result:\n",
    "#'ValueOne => 505, ValueTwo => True, ValueThree => 15.342, ValueFour => Fuzzy Bear'\n",
    "\n",
    "f'ValueOne => {ValueOne}, ValueTwo => {ValueTwo}, ValueThree => {ValueThree}, ValueFour => {ValueFour}'"
   ]
  },
  {
   "cell_type": "raw",
   "id": "167f2b69-fa22-48d7-bb34-7d4b16d0a0ab",
   "metadata": {},
   "source": [
    "#Part 4 - Working with erros in code (part 1)\n",
    "\n",
    "# I don't undertand what this exception men\n",
    "\n",
    "5/0"
   ]
  },
  {
   "cell_type": "code",
   "execution_count": 13,
   "id": "8937b454-a5ba-4dbd-ac50-240d8a7689df",
   "metadata": {},
   "outputs": [],
   "source": [
    "#Make sure you run the below cell before continuing on, the variables won't be available otherwise!\n",
    "\n",
    "OrangePrice = 2.50\n",
    "BananaPrice = 2.00\n",
    "FlourPrice = 5.99\n",
    "TomatoPrice = 1.50\n",
    "CheesePrice = 6.99"
   ]
  },
  {
   "cell_type": "code",
   "execution_count": 14,
   "id": "b13a8298-e0a2-4718-979c-ed610dac695f",
   "metadata": {},
   "outputs": [
    {
     "name": "stdout",
     "output_type": "stream",
     "text": [
      "14.48\n"
     ]
    }
   ],
   "source": [
    "#Provided as an example\n",
    "\n",
    "PizzaIngredientPrice = CheesePrice + FlourPrice + TomatoPrice\n",
    "print(PizzaIngredientPrice)"
   ]
  },
  {
   "cell_type": "code",
   "execution_count": 15,
   "id": "98ce7418-9857-469b-9d13-4c2136425a07",
   "metadata": {},
   "outputs": [
    {
     "name": "stdout",
     "output_type": "stream",
     "text": [
      "6.0\n"
     ]
    }
   ],
   "source": [
    "FreshProducePrice = OrangePrice + BananaPrice + TomatoPrice\n",
    "print(FreshProducePrice)"
   ]
  },
  {
   "cell_type": "code",
   "execution_count": 16,
   "id": "2d6ecd26-fd5d-44c5-8d16-c6d9a374e09a",
   "metadata": {},
   "outputs": [
    {
     "name": "stdout",
     "output_type": "stream",
     "text": [
      "2.0\n"
     ]
    }
   ],
   "source": [
    "AverageFreshProducePrice = (OrangePrice + BananaPrice + TomatoPrice)/3\n",
    "print(AverageFreshProducePrice)\n"
   ]
  },
  {
   "cell_type": "code",
   "execution_count": 17,
   "id": "5e8d79c5-c184-433e-bc1b-be2b45d835d6",
   "metadata": {},
   "outputs": [
    {
     "name": "stdout",
     "output_type": "stream",
     "text": [
      "7.99\n"
     ]
    }
   ],
   "source": [
    "BananaBreadPrice = BananaPrice + FlourPrice\n",
    "print(BananaBreadPrice)"
   ]
  },
  {
   "cell_type": "code",
   "execution_count": 18,
   "id": "eadbc613-1881-492d-b36b-094d9424294f",
   "metadata": {},
   "outputs": [
    {
     "name": "stdout",
     "output_type": "stream",
     "text": [
      "Does the entire notebook run,start to finish without any error? \n"
     ]
    },
    {
     "name": "stdin",
     "output_type": "stream",
     "text": [
      " yes\n"
     ]
    },
    {
     "name": "stdout",
     "output_type": "stream",
     "text": [
      "You are done\n"
     ]
    }
   ],
   "source": [
    "#Error Check (yes) or (No)\n",
    "\n",
    "print (\"Does the entire notebook run,start to finish without any error? \")\n",
    "Check = input()\n",
    "\n",
    "if(Check == \"yes\"):\n",
    "    print(\"You are done\")\n",
    "else:\n",
    "    print(\"Try Again\")"
   ]
  }
 ],
 "metadata": {
  "kernelspec": {
   "display_name": "Python 3",
   "language": "python",
   "name": "python3"
  },
  "language_info": {
   "codemirror_mode": {
    "name": "ipython",
    "version": 3
   },
   "file_extension": ".py",
   "mimetype": "text/x-python",
   "name": "python",
   "nbconvert_exporter": "python",
   "pygments_lexer": "ipython3",
   "version": "3.8.8"
  }
 },
 "nbformat": 4,
 "nbformat_minor": 5
}
